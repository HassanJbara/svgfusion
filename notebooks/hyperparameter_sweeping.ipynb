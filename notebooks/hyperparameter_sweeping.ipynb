{
 "cells": [
  {
   "cell_type": "code",
   "execution_count": null,
   "id": "949d1207",
   "metadata": {},
   "outputs": [],
   "source": [
    "# to allow importing from the parent directory\n",
    "import sys\n",
    "\n",
    "# setting path\n",
    "sys.path.append('../')"
   ]
  },
  {
   "cell_type": "markdown",
   "id": "5ed7159f",
   "metadata": {},
   "source": [
    "## Autoencoder"
   ]
  },
  {
   "cell_type": "code",
   "execution_count": null,
   "id": "dd55c6e2",
   "metadata": {
    "collapsed": true
   },
   "outputs": [],
   "source": [
    "from configs.hierarchical_ordered import Config\n",
    "from utils import load_pretrained_autoencoder\n",
    "import torch \n",
    "\n",
    "cfg = Config()\n",
    "\n",
    "cfg.data_dir = \"../dataset/icons_tensor/\"\n",
    "cfg.meta_filepath = \"../dataset/icons_meta.csv\"\n",
    "\n",
    "device = \"cuda\" if torch.cuda.is_available() else \"cpu\"\n",
    "\n",
    "vae_model = load_pretrained_autoencoder(cfg, pretrained_path='../pretrained/hierarchical_ordered.pth.tar', device=device)"
   ]
  },
  {
   "cell_type": "markdown",
   "id": "e37f5d7f",
   "metadata": {},
   "source": [
    "## Training"
   ]
  },
  {
   "cell_type": "code",
   "execution_count": 6,
   "id": "532ef5cd",
   "metadata": {},
   "outputs": [],
   "source": [
    "import wandb\n",
    "import torch\n",
    "from torch.optim import AdamW\n",
    "from torch.optim.lr_scheduler import ReduceLROnPlateau\n",
    "from dataset.dataset import num_classes, dataloader_with_transformed_dataset\n",
    "from utils import create_model, train_with_wandb\n",
    "\n",
    "def sweep_pipeline():\n",
    "    config_defaults = {\n",
    "        'optimizer': 'adam',\n",
    "        'predict_xstart': True,\n",
    "        'learn_sigma': True,\n",
    "        'use_scheduler': True,\n",
    "        'num_heads': 16,\n",
    "        'depth': 28,\n",
    "        'dropout': 0.1,\n",
    "        'epochs': 100,\n",
    "        'learning_rate': 0.001,\n",
    "        'batch_size': 100,\n",
    "        'magical_number': 0.7128, # mean of std's of latents\n",
    "    }\n",
    "    wandb.init(config=config_defaults)\n",
    "    config = wandb.config\n",
    "    \n",
    "    train_dataloader, valid_dataloader = dataloader_with_transformed_dataset(vae_model, cfg, batch_n=config.batch_size, length=1000)\n",
    "\n",
    "    model, diffusion = create_model(dropout=config.dropout, predict_xstart=config.predict_xstart,\n",
    "                                    n_classes=num_classes(train_dataloader), depth=config.depth, \n",
    "                                    learn_sigma=config.learn_sigma, num_heads=config.num_heads)\n",
    "    \n",
    "    device = \"cuda\" if torch.cuda.is_available() else \"cpu\"\n",
    "    \n",
    "    optimizer = AdamW(model.parameters(), lr=config.learning_rate, weight_decay=0)\n",
    "    scheduler = ReduceLROnPlateau(optimizer, 'min', patience=5)\n",
    "    \n",
    "    train_with_wandb(model, train_dataloader, diffusion, optimizer, scheduler, config, device=device)"
   ]
  },
  {
   "cell_type": "markdown",
   "id": "3c76841f",
   "metadata": {},
   "source": [
    "A single training run for debugging."
   ]
  },
  {
   "cell_type": "code",
   "execution_count": null,
   "id": "27241a60",
   "metadata": {
    "collapsed": true
   },
   "outputs": [],
   "source": [
    "sweep_pipeline()\n",
    "wandb.finish()"
   ]
  },
  {
   "cell_type": "markdown",
   "id": "08752696",
   "metadata": {},
   "source": [
    "# Defining the Sweep"
   ]
  },
  {
   "cell_type": "markdown",
   "id": "cd595302",
   "metadata": {},
   "source": [
    "## Config"
   ]
  },
  {
   "cell_type": "code",
   "execution_count": null,
   "id": "8343d857",
   "metadata": {},
   "outputs": [],
   "source": [
    "import wandb\n",
    "\n",
    "wandb.login()"
   ]
  },
  {
   "cell_type": "code",
   "execution_count": 8,
   "id": "341c66e1",
   "metadata": {},
   "outputs": [],
   "source": [
    "sweep_config = {\n",
    "    'method': 'random',\n",
    "    'metric': {\n",
    "        'name': 'loss',\n",
    "        'goal': 'minimize'   \n",
    "    },\n",
    "    'parameters': {\n",
    "        'optimizer': {\n",
    "            'values': ['adam']\n",
    "        },\n",
    "        'predict_xstart': {\n",
    "            'value': True,\n",
    "        },\n",
    "        'learn_sigma':{\n",
    "            'value': True, # [True, False]\n",
    "        },\n",
    "        'use_scheduler':{\n",
    "            'values': [True, False],\n",
    "        },\n",
    "        'num_heads': {\n",
    "            'values': [16, 32, 64, 128, 256]\n",
    "        },\n",
    "        'depth': {\n",
    "            'distribution': 'int_uniform',\n",
    "            'min': 28,\n",
    "            'max': 100, \n",
    "        },\n",
    "        'dropout': {\n",
    "              'values': [0.3, 0.4, 0.5]\n",
    "        },\n",
    "        'epochs': {\n",
    "            'value': 100\n",
    "        },\n",
    "        'learning_rate': {\n",
    "            # a flat distribution between 0.01 and 0.0001\n",
    "            'distribution': 'uniform',\n",
    "            'min': 0.0001,\n",
    "            'max': 0.01\n",
    "        },\n",
    "        'batch_size': {\n",
    "            # integers between 32 and 256\n",
    "            # with evenly-distributed logarithms \n",
    "            'distribution': 'q_log_uniform_values',\n",
    "            'q': 8,\n",
    "            'min': 16,\n",
    "            'max': 128,\n",
    "        }\n",
    "    },\n",
    "}"
   ]
  },
  {
   "cell_type": "markdown",
   "id": "2f335569",
   "metadata": {},
   "source": [
    "## Sweep"
   ]
  },
  {
   "cell_type": "code",
   "execution_count": null,
   "id": "f78de281",
   "metadata": {},
   "outputs": [],
   "source": [
    "import wandb\n",
    "\n",
    "sweep_id = wandb.sweep(sweep_config, project=\"svgfusion-sweep\")"
   ]
  },
  {
   "cell_type": "code",
   "execution_count": null,
   "id": "acd3e370",
   "metadata": {
    "scrolled": false
   },
   "outputs": [],
   "source": [
    "import wandb\n",
    "\n",
    "wandb.agent(sweep_id, sweep_pipeline, count=100)"
   ]
  }
 ],
 "metadata": {
  "kernelspec": {
   "display_name": "Python 3 (ipykernel)",
   "language": "python",
   "name": "python3"
  },
  "language_info": {
   "codemirror_mode": {
    "name": "ipython",
    "version": 3
   },
   "file_extension": ".py",
   "mimetype": "text/x-python",
   "name": "python",
   "nbconvert_exporter": "python",
   "pygments_lexer": "ipython3",
   "version": "3.7.13"
  }
 },
 "nbformat": 4,
 "nbformat_minor": 5
}
