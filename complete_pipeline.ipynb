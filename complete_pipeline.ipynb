{
 "cells": [
  {
   "cell_type": "markdown",
   "metadata": {
    "id": "8vv1e7yAbyEY"
   },
   "source": [
    "# Set up"
   ]
  },
  {
   "cell_type": "code",
   "execution_count": null,
   "metadata": {
    "id": "JrrBbY-iv7I3"
   },
   "outputs": [],
   "source": [
    "# !sudo apt install libcairo2-dev pkg-config python3-dev # uncomment this if you're on linux\n",
    "!pip install -r ./requirements.txt"
   ]
  },
  {
   "cell_type": "markdown",
   "metadata": {
    "id": "l3trQfA4TV-w"
   },
   "source": [
    "## Loading Dataset"
   ]
  },
  {
   "cell_type": "markdown",
   "metadata": {
    "id": "JcRhvdgl1J7Y"
   },
   "source": [
    "### Loading the DeepSVG Dataset"
   ]
  },
  {
   "cell_type": "markdown",
   "metadata": {},
   "source": [
    "Use this cell if ./pretrained/hierarchical_ordered.pth.tar doesn't exist. Downloaded files should be moved to ./pretrained."
   ]
  },
  {
   "cell_type": "code",
   "execution_count": null,
   "metadata": {
    "collapsed": true,
    "id": "Pa8TSLUo1MXw"
   },
   "outputs": [],
   "source": [
    "!chmod u+x ./pretrained/download.sh\n",
    "!./pretrained/download.sh"
   ]
  },
  {
   "cell_type": "markdown",
   "metadata": {},
   "source": [
    "Use this cell if you need to download the dataset. Downloaded files should be moved to ./dataset."
   ]
  },
  {
   "cell_type": "code",
   "execution_count": null,
   "metadata": {
    "collapsed": true,
    "id": "fWZefrXn1QMg"
   },
   "outputs": [],
   "source": [
    "!chmod u+x ./dataset/download.sh\n",
    "!./dataset/download.sh"
   ]
  },
  {
   "cell_type": "markdown",
   "metadata": {
    "id": "wk10UQIeIOni"
   },
   "source": [
    "### VAE"
   ]
  },
  {
   "cell_type": "code",
   "execution_count": null,
   "metadata": {
    "collapsed": true,
    "id": "Ms3x1PcR1iEK"
   },
   "outputs": [],
   "source": [
    "from configs.hierarchical_ordered import Config\n",
    "from deepsvg import utils\n",
    "import torch\n",
    "\n",
    "pretrained_path = \"./pretrained/hierarchical_ordered.pth.tar\"\n",
    "device = torch.device(\"cuda:0\"if torch.cuda.is_available() else \"cpu\")\n",
    "\n",
    "cfg = Config()\n",
    "vae_model = cfg.make_model().to(device)\n",
    "utils.load_model(pretrained_path, vae_model)\n",
    "vae_model.eval()"
   ]
  },
  {
   "cell_type": "markdown",
   "metadata": {
    "id": "7F3Z6VFT7kwD"
   },
   "source": [
    "# Model"
   ]
  },
  {
   "cell_type": "code",
   "execution_count": null,
   "metadata": {},
   "outputs": [],
   "source": [
    "from diffusion import create_diffusion\n",
    "from svgfusion import DiT\n",
    "\n",
    "def create_model(predict_xstart=True, dropout=0.1, n_classes=56, depth=28, learn_sigma=True, num_heads=16):\n",
    "\n",
    "    model = DiT(class_dropout_prob=dropout, num_classes=n_classes, depth=depth, learn_sigma=learn_sigma, num_heads=num_heads)\n",
    "    device = \"cuda\" if torch.cuda.is_available() else \"cpu\"\n",
    "\n",
    "    model.to(device)\n",
    "    diffusion = create_diffusion(timestep_respacing=\"\", predict_xstart=predict_xstart,\n",
    "                                 learn_sigma=learn_sigma)  # default: 1000 steps, linear noise schedule\n",
    "\n",
    "    model.train()  # important! This enables embedding dropout for classifier-free guidance\n",
    "\n",
    "    return model, diffusion"
   ]
  },
  {
   "cell_type": "markdown",
   "metadata": {
    "id": "mdYR-aWMYUj7"
   },
   "source": [
    "# Training"
   ]
  },
  {
   "cell_type": "markdown",
   "metadata": {
    "id": "UZcgI9-k_RjX"
   },
   "source": [
    "### Training Loop"
   ]
  },
  {
   "cell_type": "code",
   "execution_count": null,
   "metadata": {},
   "outputs": [],
   "source": [
    "import torch\n",
    "from torch.optim import AdamW\n",
    "from torch.optim.lr_scheduler import ReduceLROnPlateau\n",
    "from dataset.dataset import num_classes, dataloader_with_transformed_dataset\n",
    "from utils import log_training\n",
    "\n",
    "def train(epochs=100, learning_rate=0.0001, batch_size=10, n_samples=1000, use_scheduler=True, dropout=0.1, predict_xstart=True, depth=28, learn_sigma=True, num_heads=16, magical_number=0.7128):\n",
    "    train_dataloader, valid_dataloader = dataloader_with_transformed_dataset(vae_model, cfg, batch_n=batch_size, length=n_samples)\n",
    "\n",
    "    model, diffusion = create_model(dropout=dropout, predict_xstart=predict_xstart,\n",
    "                                    n_classes=num_classes(train_dataloader), depth=depth,\n",
    "                                    learn_sigma=learn_sigma, num_heads=num_heads)\n",
    "\n",
    "    magical_number = 0.7128\n",
    "    device = \"cuda\" if torch.cuda.is_available() else \"cpu\"\n",
    "\n",
    "    optimizer = AdamW(model.parameters(), lr=learning_rate, weight_decay=0)\n",
    "    scheduler = ReduceLROnPlateau(optimizer, 'min', patience=5)\n",
    "\n",
    "    for epoch in range(epochs):\n",
    "        avg_loss = 0\n",
    "        for x, y in train_dataloader:\n",
    "            x = x.to(device)\n",
    "            y = y.to(device)\n",
    "\n",
    "            x = x.squeeze().unsqueeze(dim=1)\n",
    "            x = x / magical_number # mean of std's of latents\n",
    "\n",
    "            model_kwargs = dict(y=y)\n",
    "\n",
    "            t = torch.randint(0, diffusion.num_timesteps, (x.shape[0],), device=device)\n",
    "\n",
    "            loss_dict = diffusion.training_losses(model, x, t, model_kwargs)\n",
    "            loss = loss_dict[\"loss\"].mean()\n",
    "\n",
    "            optimizer.zero_grad()\n",
    "            loss.backward()\n",
    "            optimizer.step()\n",
    "\n",
    "            avg_loss += loss.item()\n",
    "\n",
    "        if use_scheduler: scheduler.step(avg_loss / len(train_dataloader))\n",
    "        print(optimizer.param_groups[0]['lr'])\n",
    "        log_training(epoch, avg_loss / len(train_dataloader))\n",
    "\n",
    "    return model, optimizer, diffusion, scheduler, num_classes(train_dataloader)"
   ]
  },
  {
   "cell_type": "code",
   "execution_count": null,
   "metadata": {},
   "outputs": [],
   "source": [
    "config = {\n",
    "        'predict_xstart': True,\n",
    "        'learn_sigma': True,\n",
    "        'use_scheduler': True,\n",
    "        'num_heads': 16,\n",
    "        'depth': 28,\n",
    "        'dropout': 0.1,\n",
    "        'epochs': 100,\n",
    "        'learning_rate': 0.0001,\n",
    "        'batch_size': 100,\n",
    "        'n_samples': None, # None = all of the samples\n",
    "        'magical_number': 0.7128, # mean of std's of latents\n",
    "}\n",
    "\n",
    "model, optimizer, diffusion, scheduler, n_classes = train(**config)"
   ]
  },
  {
   "cell_type": "markdown",
   "metadata": {
    "id": "V3kQ7-3Vd_BM"
   },
   "source": [
    "# Saving/Loading the Model"
   ]
  },
  {
   "cell_type": "code",
   "execution_count": null,
   "metadata": {
    "id": "4MIdbodneG1r"
   },
   "outputs": [],
   "source": [
    "from torch.optim import AdamW\n",
    "from pathlib import Path\n",
    "\n",
    "def save_model(model, optimizer, diffusion, scheduler, n_classes, config):\n",
    "    export_dir = './models'\n",
    "\n",
    "    Path(export_dir).mkdir(parents=True, exist_ok=True)\n",
    "\n",
    "    # will save everything unless this turns out to be heavy on memory\n",
    "    checkpoint = {\n",
    "      \"model\": model.state_dict(),\n",
    "      \"opt\": optimizer.state_dict(),\n",
    "      \"diffusion\": diffusion,\n",
    "      \"scheduler\": scheduler,\n",
    "      \"num_classes\": n_classes,\n",
    "      \"config\": config,\n",
    "    }\n",
    "    exported_model_path = f\"{export_dir}/predict_{'x0' if config['predict_xstart'] else 'noise'}_{config['epochs']}.pt\"\n",
    "    torch.save(checkpoint, exported_model_path)\n",
    "\n",
    "\n",
    "def load_model(model_path, device, for_training=True):\n",
    "    state = torch.load(model_path, map_location=device)\n",
    "\n",
    "    model = DiT(num_classes=state['num_classes']).to(device)\n",
    "    model.load_state_dict(state['model'])\n",
    "\n",
    "    optimizer = AdamW(model.parameters(), lr=1e-4, weight_decay=0)\n",
    "    optimizer.load_state_dict(state['opt'])\n",
    "\n",
    "    if not for_training:\n",
    "      model.eval()\n",
    "      return model, state['diffusion'], state['config']\n",
    "    else:\n",
    "      return model, optimizer, state['diffusion'], state['scheduler'], state['config']"
   ]
  },
  {
   "cell_type": "code",
   "execution_count": null,
   "metadata": {
    "id": "UWoPsPbJgCeX"
   },
   "outputs": [],
   "source": [
    "save_model(model, optimizer, diffusion, scheduler, n_classes, config)"
   ]
  }
 ],
 "metadata": {
  "colab": {
   "collapsed_sections": [
    "GnVAAZRHcP9b",
    "zFRag_rWXi6G",
    "IkXeKrbN-R9i",
    "I0jZYUIv_GYd",
    "I9ZJ5Ty6amBS",
    "yhBfmiecEw8D",
    "0Fc2mrQbjKdM",
    "SiMPPbMBC0OB",
    "qm23rMAwS8Zv",
    "whLaDZPgXyqp",
    "Sm5jMIYZRxcD"
   ],
   "machine_shape": "hm",
   "provenance": []
  },
  "kernelspec": {
   "display_name": "Python 3 (ipykernel)",
   "language": "python",
   "name": "python3"
  },
  "language_info": {
   "codemirror_mode": {
    "name": "ipython",
    "version": 3
   },
   "file_extension": ".py",
   "mimetype": "text/x-python",
   "name": "python",
   "nbconvert_exporter": "python",
   "pygments_lexer": "ipython3",
   "version": "3.9.5"
  },
  "widgets": {
   "application/vnd.jupyter.widget-state+json": {
    "1dd813c4cf254b80850a405271df120c": {
     "model_module": "@jupyter-widgets/controls",
     "model_module_version": "1.5.0",
     "model_name": "ProgressStyleModel",
     "state": {
      "_model_module": "@jupyter-widgets/controls",
      "_model_module_version": "1.5.0",
      "_model_name": "ProgressStyleModel",
      "_view_count": null,
      "_view_module": "@jupyter-widgets/base",
      "_view_module_version": "1.2.0",
      "_view_name": "StyleView",
      "bar_color": null,
      "description_width": ""
     }
    },
    "38171488205a4886860b5addb7959f65": {
     "model_module": "@jupyter-widgets/base",
     "model_module_version": "1.2.0",
     "model_name": "LayoutModel",
     "state": {
      "_model_module": "@jupyter-widgets/base",
      "_model_module_version": "1.2.0",
      "_model_name": "LayoutModel",
      "_view_count": null,
      "_view_module": "@jupyter-widgets/base",
      "_view_module_version": "1.2.0",
      "_view_name": "LayoutView",
      "align_content": null,
      "align_items": null,
      "align_self": null,
      "border": null,
      "bottom": null,
      "display": null,
      "flex": null,
      "flex_flow": null,
      "grid_area": null,
      "grid_auto_columns": null,
      "grid_auto_flow": null,
      "grid_auto_rows": null,
      "grid_column": null,
      "grid_gap": null,
      "grid_row": null,
      "grid_template_areas": null,
      "grid_template_columns": null,
      "grid_template_rows": null,
      "height": null,
      "justify_content": null,
      "justify_items": null,
      "left": null,
      "margin": null,
      "max_height": null,
      "max_width": null,
      "min_height": null,
      "min_width": null,
      "object_fit": null,
      "object_position": null,
      "order": null,
      "overflow": null,
      "overflow_x": null,
      "overflow_y": null,
      "padding": null,
      "right": null,
      "top": null,
      "visibility": null,
      "width": null
     }
    },
    "3ebff5a425c3425aaf0e3fcf8a07e29d": {
     "model_module": "@jupyter-widgets/base",
     "model_module_version": "1.2.0",
     "model_name": "LayoutModel",
     "state": {
      "_model_module": "@jupyter-widgets/base",
      "_model_module_version": "1.2.0",
      "_model_name": "LayoutModel",
      "_view_count": null,
      "_view_module": "@jupyter-widgets/base",
      "_view_module_version": "1.2.0",
      "_view_name": "LayoutView",
      "align_content": null,
      "align_items": null,
      "align_self": null,
      "border": null,
      "bottom": null,
      "display": null,
      "flex": null,
      "flex_flow": null,
      "grid_area": null,
      "grid_auto_columns": null,
      "grid_auto_flow": null,
      "grid_auto_rows": null,
      "grid_column": null,
      "grid_gap": null,
      "grid_row": null,
      "grid_template_areas": null,
      "grid_template_columns": null,
      "grid_template_rows": null,
      "height": null,
      "justify_content": null,
      "justify_items": null,
      "left": null,
      "margin": null,
      "max_height": null,
      "max_width": null,
      "min_height": null,
      "min_width": null,
      "object_fit": null,
      "object_position": null,
      "order": null,
      "overflow": null,
      "overflow_x": null,
      "overflow_y": null,
      "padding": null,
      "right": null,
      "top": null,
      "visibility": null,
      "width": null
     }
    },
    "438aef42d08b4df8b4c6a11e6f940ae0": {
     "model_module": "@jupyter-widgets/controls",
     "model_module_version": "1.5.0",
     "model_name": "DescriptionStyleModel",
     "state": {
      "_model_module": "@jupyter-widgets/controls",
      "_model_module_version": "1.5.0",
      "_model_name": "DescriptionStyleModel",
      "_view_count": null,
      "_view_module": "@jupyter-widgets/base",
      "_view_module_version": "1.2.0",
      "_view_name": "StyleView",
      "description_width": ""
     }
    },
    "57ccc0e65cc24f0fb87ac357db45c06e": {
     "model_module": "@jupyter-widgets/controls",
     "model_module_version": "1.5.0",
     "model_name": "FloatProgressModel",
     "state": {
      "_dom_classes": [],
      "_model_module": "@jupyter-widgets/controls",
      "_model_module_version": "1.5.0",
      "_model_name": "FloatProgressModel",
      "_view_count": null,
      "_view_module": "@jupyter-widgets/controls",
      "_view_module_version": "1.5.0",
      "_view_name": "ProgressView",
      "bar_style": "success",
      "description": "",
      "description_tooltip": null,
      "layout": "IPY_MODEL_38171488205a4886860b5addb7959f65",
      "max": 1000,
      "min": 0,
      "orientation": "horizontal",
      "style": "IPY_MODEL_1dd813c4cf254b80850a405271df120c",
      "value": 1000
     }
    },
    "6963628cac524c6f9a3ca39d74040037": {
     "model_module": "@jupyter-widgets/controls",
     "model_module_version": "1.5.0",
     "model_name": "DescriptionStyleModel",
     "state": {
      "_model_module": "@jupyter-widgets/controls",
      "_model_module_version": "1.5.0",
      "_model_name": "DescriptionStyleModel",
      "_view_count": null,
      "_view_module": "@jupyter-widgets/base",
      "_view_module_version": "1.2.0",
      "_view_name": "StyleView",
      "description_width": ""
     }
    },
    "6b4823b31cb54e108d6ddafc0d0c400a": {
     "model_module": "@jupyter-widgets/controls",
     "model_module_version": "1.5.0",
     "model_name": "HTMLModel",
     "state": {
      "_dom_classes": [],
      "_model_module": "@jupyter-widgets/controls",
      "_model_module_version": "1.5.0",
      "_model_name": "HTMLModel",
      "_view_count": null,
      "_view_module": "@jupyter-widgets/controls",
      "_view_module_version": "1.5.0",
      "_view_name": "HTMLView",
      "description": "",
      "description_tooltip": null,
      "layout": "IPY_MODEL_995cb50b954a4177911ace799300a38e",
      "placeholder": "​",
      "style": "IPY_MODEL_6963628cac524c6f9a3ca39d74040037",
      "value": "100%"
     }
    },
    "995cb50b954a4177911ace799300a38e": {
     "model_module": "@jupyter-widgets/base",
     "model_module_version": "1.2.0",
     "model_name": "LayoutModel",
     "state": {
      "_model_module": "@jupyter-widgets/base",
      "_model_module_version": "1.2.0",
      "_model_name": "LayoutModel",
      "_view_count": null,
      "_view_module": "@jupyter-widgets/base",
      "_view_module_version": "1.2.0",
      "_view_name": "LayoutView",
      "align_content": null,
      "align_items": null,
      "align_self": null,
      "border": null,
      "bottom": null,
      "display": null,
      "flex": null,
      "flex_flow": null,
      "grid_area": null,
      "grid_auto_columns": null,
      "grid_auto_flow": null,
      "grid_auto_rows": null,
      "grid_column": null,
      "grid_gap": null,
      "grid_row": null,
      "grid_template_areas": null,
      "grid_template_columns": null,
      "grid_template_rows": null,
      "height": null,
      "justify_content": null,
      "justify_items": null,
      "left": null,
      "margin": null,
      "max_height": null,
      "max_width": null,
      "min_height": null,
      "min_width": null,
      "object_fit": null,
      "object_position": null,
      "order": null,
      "overflow": null,
      "overflow_x": null,
      "overflow_y": null,
      "padding": null,
      "right": null,
      "top": null,
      "visibility": null,
      "width": null
     }
    },
    "b019675b156d402db662e3cd2bebe20e": {
     "model_module": "@jupyter-widgets/controls",
     "model_module_version": "1.5.0",
     "model_name": "HTMLModel",
     "state": {
      "_dom_classes": [],
      "_model_module": "@jupyter-widgets/controls",
      "_model_module_version": "1.5.0",
      "_model_name": "HTMLModel",
      "_view_count": null,
      "_view_module": "@jupyter-widgets/controls",
      "_view_module_version": "1.5.0",
      "_view_name": "HTMLView",
      "description": "",
      "description_tooltip": null,
      "layout": "IPY_MODEL_d2ccc051d3ee482eb75bfa3942a32ed4",
      "placeholder": "​",
      "style": "IPY_MODEL_438aef42d08b4df8b4c6a11e6f940ae0",
      "value": " 1000/1000 [00:52&lt;00:00, 21.90it/s]"
     }
    },
    "d2ccc051d3ee482eb75bfa3942a32ed4": {
     "model_module": "@jupyter-widgets/base",
     "model_module_version": "1.2.0",
     "model_name": "LayoutModel",
     "state": {
      "_model_module": "@jupyter-widgets/base",
      "_model_module_version": "1.2.0",
      "_model_name": "LayoutModel",
      "_view_count": null,
      "_view_module": "@jupyter-widgets/base",
      "_view_module_version": "1.2.0",
      "_view_name": "LayoutView",
      "align_content": null,
      "align_items": null,
      "align_self": null,
      "border": null,
      "bottom": null,
      "display": null,
      "flex": null,
      "flex_flow": null,
      "grid_area": null,
      "grid_auto_columns": null,
      "grid_auto_flow": null,
      "grid_auto_rows": null,
      "grid_column": null,
      "grid_gap": null,
      "grid_row": null,
      "grid_template_areas": null,
      "grid_template_columns": null,
      "grid_template_rows": null,
      "height": null,
      "justify_content": null,
      "justify_items": null,
      "left": null,
      "margin": null,
      "max_height": null,
      "max_width": null,
      "min_height": null,
      "min_width": null,
      "object_fit": null,
      "object_position": null,
      "order": null,
      "overflow": null,
      "overflow_x": null,
      "overflow_y": null,
      "padding": null,
      "right": null,
      "top": null,
      "visibility": null,
      "width": null
     }
    },
    "fc04c708e8484cbb931f35cfc5f62be8": {
     "model_module": "@jupyter-widgets/controls",
     "model_module_version": "1.5.0",
     "model_name": "HBoxModel",
     "state": {
      "_dom_classes": [],
      "_model_module": "@jupyter-widgets/controls",
      "_model_module_version": "1.5.0",
      "_model_name": "HBoxModel",
      "_view_count": null,
      "_view_module": "@jupyter-widgets/controls",
      "_view_module_version": "1.5.0",
      "_view_name": "HBoxView",
      "box_style": "",
      "children": [
       "IPY_MODEL_6b4823b31cb54e108d6ddafc0d0c400a",
       "IPY_MODEL_57ccc0e65cc24f0fb87ac357db45c06e",
       "IPY_MODEL_b019675b156d402db662e3cd2bebe20e"
      ],
      "layout": "IPY_MODEL_3ebff5a425c3425aaf0e3fcf8a07e29d"
     }
    }
   }
  }
 },
 "nbformat": 4,
 "nbformat_minor": 1
}